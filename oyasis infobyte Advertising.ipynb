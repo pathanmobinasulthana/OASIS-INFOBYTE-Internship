{
 "cells": [
  {
   "cell_type": "markdown",
   "metadata": {},
   "source": [
    "# Oasis Infobyte Sales Prediction "
   ]
  },
  {
   "cell_type": "markdown",
   "metadata": {},
   "source": [
    "## Author : Pathan Mobina Sulthana"
   ]
  },
  {
   "cell_type": "markdown",
   "metadata": {},
   "source": [
    "## Sales perediction Based on Advertising "
   ]
  },
  {
   "cell_type": "markdown",
   "metadata": {},
   "source": [
    "## Importing required libraries"
   ]
  },
  {
   "cell_type": "code",
   "execution_count": 3,
   "metadata": {},
   "outputs": [],
   "source": [
    "import pandas as pd\n",
    "import numpy as np\n",
    "import matplotlib.pyplot as plt"
   ]
  },
  {
   "cell_type": "markdown",
   "metadata": {},
   "source": [
    "## importing and reading the dataset into dataframe df"
   ]
  },
  {
   "cell_type": "code",
   "execution_count": 4,
   "metadata": {},
   "outputs": [],
   "source": [
    "df=pd.read_csv(\"Advertising.csv\")"
   ]
  },
  {
   "cell_type": "code",
   "execution_count": 5,
   "metadata": {},
   "outputs": [
    {
     "data": {
      "text/html": [
       "<div>\n",
       "<style scoped>\n",
       "    .dataframe tbody tr th:only-of-type {\n",
       "        vertical-align: middle;\n",
       "    }\n",
       "\n",
       "    .dataframe tbody tr th {\n",
       "        vertical-align: top;\n",
       "    }\n",
       "\n",
       "    .dataframe thead th {\n",
       "        text-align: right;\n",
       "    }\n",
       "</style>\n",
       "<table border=\"1\" class=\"dataframe\">\n",
       "  <thead>\n",
       "    <tr style=\"text-align: right;\">\n",
       "      <th></th>\n",
       "      <th>Unnamed: 0</th>\n",
       "      <th>TV</th>\n",
       "      <th>Radio</th>\n",
       "      <th>Newspaper</th>\n",
       "      <th>Sales</th>\n",
       "    </tr>\n",
       "  </thead>\n",
       "  <tbody>\n",
       "    <tr>\n",
       "      <th>0</th>\n",
       "      <td>1</td>\n",
       "      <td>230.1</td>\n",
       "      <td>37.8</td>\n",
       "      <td>69.2</td>\n",
       "      <td>22.1</td>\n",
       "    </tr>\n",
       "    <tr>\n",
       "      <th>1</th>\n",
       "      <td>2</td>\n",
       "      <td>44.5</td>\n",
       "      <td>39.3</td>\n",
       "      <td>45.1</td>\n",
       "      <td>10.4</td>\n",
       "    </tr>\n",
       "    <tr>\n",
       "      <th>2</th>\n",
       "      <td>3</td>\n",
       "      <td>17.2</td>\n",
       "      <td>45.9</td>\n",
       "      <td>69.3</td>\n",
       "      <td>9.3</td>\n",
       "    </tr>\n",
       "    <tr>\n",
       "      <th>3</th>\n",
       "      <td>4</td>\n",
       "      <td>151.5</td>\n",
       "      <td>41.3</td>\n",
       "      <td>58.5</td>\n",
       "      <td>18.5</td>\n",
       "    </tr>\n",
       "    <tr>\n",
       "      <th>4</th>\n",
       "      <td>5</td>\n",
       "      <td>180.8</td>\n",
       "      <td>10.8</td>\n",
       "      <td>58.4</td>\n",
       "      <td>12.9</td>\n",
       "    </tr>\n",
       "  </tbody>\n",
       "</table>\n",
       "</div>"
      ],
      "text/plain": [
       "   Unnamed: 0     TV  Radio  Newspaper  Sales\n",
       "0           1  230.1   37.8       69.2   22.1\n",
       "1           2   44.5   39.3       45.1   10.4\n",
       "2           3   17.2   45.9       69.3    9.3\n",
       "3           4  151.5   41.3       58.5   18.5\n",
       "4           5  180.8   10.8       58.4   12.9"
      ]
     },
     "execution_count": 5,
     "metadata": {},
     "output_type": "execute_result"
    }
   ],
   "source": [
    "df.head()"
   ]
  },
  {
   "cell_type": "markdown",
   "metadata": {},
   "source": [
    "## checking for dataframe shape"
   ]
  },
  {
   "cell_type": "code",
   "execution_count": 6,
   "metadata": {},
   "outputs": [
    {
     "data": {
      "text/plain": [
       "(200, 5)"
      ]
     },
     "execution_count": 6,
     "metadata": {},
     "output_type": "execute_result"
    }
   ],
   "source": [
    "df.shape"
   ]
  },
  {
   "cell_type": "code",
   "execution_count": 7,
   "metadata": {},
   "outputs": [
    {
     "data": {
      "text/plain": [
       "Index(['Unnamed: 0', 'TV', 'Radio', 'Newspaper', 'Sales'], dtype='object')"
      ]
     },
     "execution_count": 7,
     "metadata": {},
     "output_type": "execute_result"
    }
   ],
   "source": [
    "df.columns"
   ]
  },
  {
   "cell_type": "code",
   "execution_count": 8,
   "metadata": {},
   "outputs": [
    {
     "name": "stdout",
     "output_type": "stream",
     "text": [
      "<class 'pandas.core.frame.DataFrame'>\n",
      "RangeIndex: 200 entries, 0 to 199\n",
      "Data columns (total 5 columns):\n",
      " #   Column      Non-Null Count  Dtype  \n",
      "---  ------      --------------  -----  \n",
      " 0   Unnamed: 0  200 non-null    int64  \n",
      " 1   TV          200 non-null    float64\n",
      " 2   Radio       200 non-null    float64\n",
      " 3   Newspaper   200 non-null    float64\n",
      " 4   Sales       200 non-null    float64\n",
      "dtypes: float64(4), int64(1)\n",
      "memory usage: 7.9 KB\n"
     ]
    }
   ],
   "source": [
    "df.info()"
   ]
  },
  {
   "cell_type": "markdown",
   "metadata": {},
   "source": [
    "## Descriptive Statistics to check null values"
   ]
  },
  {
   "cell_type": "code",
   "execution_count": 9,
   "metadata": {},
   "outputs": [
    {
     "data": {
      "text/html": [
       "<div>\n",
       "<style scoped>\n",
       "    .dataframe tbody tr th:only-of-type {\n",
       "        vertical-align: middle;\n",
       "    }\n",
       "\n",
       "    .dataframe tbody tr th {\n",
       "        vertical-align: top;\n",
       "    }\n",
       "\n",
       "    .dataframe thead th {\n",
       "        text-align: right;\n",
       "    }\n",
       "</style>\n",
       "<table border=\"1\" class=\"dataframe\">\n",
       "  <thead>\n",
       "    <tr style=\"text-align: right;\">\n",
       "      <th></th>\n",
       "      <th>Unnamed: 0</th>\n",
       "      <th>TV</th>\n",
       "      <th>Radio</th>\n",
       "      <th>Newspaper</th>\n",
       "      <th>Sales</th>\n",
       "    </tr>\n",
       "  </thead>\n",
       "  <tbody>\n",
       "    <tr>\n",
       "      <th>count</th>\n",
       "      <td>200.000000</td>\n",
       "      <td>200.000000</td>\n",
       "      <td>200.000000</td>\n",
       "      <td>200.000000</td>\n",
       "      <td>200.000000</td>\n",
       "    </tr>\n",
       "    <tr>\n",
       "      <th>mean</th>\n",
       "      <td>100.500000</td>\n",
       "      <td>147.042500</td>\n",
       "      <td>23.264000</td>\n",
       "      <td>30.554000</td>\n",
       "      <td>14.022500</td>\n",
       "    </tr>\n",
       "    <tr>\n",
       "      <th>std</th>\n",
       "      <td>57.879185</td>\n",
       "      <td>85.854236</td>\n",
       "      <td>14.846809</td>\n",
       "      <td>21.778621</td>\n",
       "      <td>5.217457</td>\n",
       "    </tr>\n",
       "    <tr>\n",
       "      <th>min</th>\n",
       "      <td>1.000000</td>\n",
       "      <td>0.700000</td>\n",
       "      <td>0.000000</td>\n",
       "      <td>0.300000</td>\n",
       "      <td>1.600000</td>\n",
       "    </tr>\n",
       "    <tr>\n",
       "      <th>25%</th>\n",
       "      <td>50.750000</td>\n",
       "      <td>74.375000</td>\n",
       "      <td>9.975000</td>\n",
       "      <td>12.750000</td>\n",
       "      <td>10.375000</td>\n",
       "    </tr>\n",
       "    <tr>\n",
       "      <th>50%</th>\n",
       "      <td>100.500000</td>\n",
       "      <td>149.750000</td>\n",
       "      <td>22.900000</td>\n",
       "      <td>25.750000</td>\n",
       "      <td>12.900000</td>\n",
       "    </tr>\n",
       "    <tr>\n",
       "      <th>75%</th>\n",
       "      <td>150.250000</td>\n",
       "      <td>218.825000</td>\n",
       "      <td>36.525000</td>\n",
       "      <td>45.100000</td>\n",
       "      <td>17.400000</td>\n",
       "    </tr>\n",
       "    <tr>\n",
       "      <th>max</th>\n",
       "      <td>200.000000</td>\n",
       "      <td>296.400000</td>\n",
       "      <td>49.600000</td>\n",
       "      <td>114.000000</td>\n",
       "      <td>27.000000</td>\n",
       "    </tr>\n",
       "  </tbody>\n",
       "</table>\n",
       "</div>"
      ],
      "text/plain": [
       "       Unnamed: 0          TV       Radio   Newspaper       Sales\n",
       "count  200.000000  200.000000  200.000000  200.000000  200.000000\n",
       "mean   100.500000  147.042500   23.264000   30.554000   14.022500\n",
       "std     57.879185   85.854236   14.846809   21.778621    5.217457\n",
       "min      1.000000    0.700000    0.000000    0.300000    1.600000\n",
       "25%     50.750000   74.375000    9.975000   12.750000   10.375000\n",
       "50%    100.500000  149.750000   22.900000   25.750000   12.900000\n",
       "75%    150.250000  218.825000   36.525000   45.100000   17.400000\n",
       "max    200.000000  296.400000   49.600000  114.000000   27.000000"
      ]
     },
     "execution_count": 9,
     "metadata": {},
     "output_type": "execute_result"
    }
   ],
   "source": [
    "df.describe(include=\"all\")"
   ]
  },
  {
   "cell_type": "markdown",
   "metadata": {},
   "source": [
    "## here the count for all columns is same so there is no null values in data"
   ]
  },
  {
   "cell_type": "markdown",
   "metadata": {},
   "source": [
    "## task is to predict sales value so we can use linear regression for this project"
   ]
  },
  {
   "cell_type": "markdown",
   "metadata": {},
   "source": [
    "## The datatset is already encoded "
   ]
  },
  {
   "cell_type": "markdown",
   "metadata": {},
   "source": [
    "## Standradization "
   ]
  },
  {
   "cell_type": "code",
   "execution_count": 10,
   "metadata": {},
   "outputs": [],
   "source": [
    "from sklearn.preprocessing import StandardScaler\n",
    "sc=StandardScaler()"
   ]
  },
  {
   "cell_type": "code",
   "execution_count": 11,
   "metadata": {},
   "outputs": [],
   "source": [
    "salesdf=pd.DataFrame(sc.fit_transform(df))"
   ]
  },
  {
   "cell_type": "code",
   "execution_count": 12,
   "metadata": {},
   "outputs": [],
   "source": [
    "salesdf.columns=df.columns"
   ]
  },
  {
   "cell_type": "code",
   "execution_count": 13,
   "metadata": {},
   "outputs": [
    {
     "data": {
      "text/html": [
       "<div>\n",
       "<style scoped>\n",
       "    .dataframe tbody tr th:only-of-type {\n",
       "        vertical-align: middle;\n",
       "    }\n",
       "\n",
       "    .dataframe tbody tr th {\n",
       "        vertical-align: top;\n",
       "    }\n",
       "\n",
       "    .dataframe thead th {\n",
       "        text-align: right;\n",
       "    }\n",
       "</style>\n",
       "<table border=\"1\" class=\"dataframe\">\n",
       "  <thead>\n",
       "    <tr style=\"text-align: right;\">\n",
       "      <th></th>\n",
       "      <th>Unnamed: 0</th>\n",
       "      <th>TV</th>\n",
       "      <th>Radio</th>\n",
       "      <th>Newspaper</th>\n",
       "      <th>Sales</th>\n",
       "    </tr>\n",
       "  </thead>\n",
       "  <tbody>\n",
       "    <tr>\n",
       "      <th>0</th>\n",
       "      <td>-1.723412</td>\n",
       "      <td>0.969852</td>\n",
       "      <td>0.981522</td>\n",
       "      <td>1.778945</td>\n",
       "      <td>1.552053</td>\n",
       "    </tr>\n",
       "    <tr>\n",
       "      <th>1</th>\n",
       "      <td>-1.706091</td>\n",
       "      <td>-1.197376</td>\n",
       "      <td>1.082808</td>\n",
       "      <td>0.669579</td>\n",
       "      <td>-0.696046</td>\n",
       "    </tr>\n",
       "    <tr>\n",
       "      <th>2</th>\n",
       "      <td>-1.688771</td>\n",
       "      <td>-1.516155</td>\n",
       "      <td>1.528463</td>\n",
       "      <td>1.783549</td>\n",
       "      <td>-0.907406</td>\n",
       "    </tr>\n",
       "    <tr>\n",
       "      <th>3</th>\n",
       "      <td>-1.671450</td>\n",
       "      <td>0.052050</td>\n",
       "      <td>1.217855</td>\n",
       "      <td>1.286405</td>\n",
       "      <td>0.860330</td>\n",
       "    </tr>\n",
       "    <tr>\n",
       "      <th>4</th>\n",
       "      <td>-1.654129</td>\n",
       "      <td>0.394182</td>\n",
       "      <td>-0.841614</td>\n",
       "      <td>1.281802</td>\n",
       "      <td>-0.215683</td>\n",
       "    </tr>\n",
       "  </tbody>\n",
       "</table>\n",
       "</div>"
      ],
      "text/plain": [
       "   Unnamed: 0        TV     Radio  Newspaper     Sales\n",
       "0   -1.723412  0.969852  0.981522   1.778945  1.552053\n",
       "1   -1.706091 -1.197376  1.082808   0.669579 -0.696046\n",
       "2   -1.688771 -1.516155  1.528463   1.783549 -0.907406\n",
       "3   -1.671450  0.052050  1.217855   1.286405  0.860330\n",
       "4   -1.654129  0.394182 -0.841614   1.281802 -0.215683"
      ]
     },
     "execution_count": 13,
     "metadata": {},
     "output_type": "execute_result"
    }
   ],
   "source": [
    "salesdf.head()"
   ]
  },
  {
   "cell_type": "markdown",
   "metadata": {},
   "source": [
    "## checking for outliers\n"
   ]
  },
  {
   "cell_type": "code",
   "execution_count": 25,
   "metadata": {},
   "outputs": [
    {
     "data": {
      "text/plain": [
       "<AxesSubplot:>"
      ]
     },
     "execution_count": 25,
     "metadata": {},
     "output_type": "execute_result"
    },
    {
     "data": {
      "image/png": "[encoded data removed]",
      "text/plain": [
       "<Figure size 432x288 with 1 Axes>"
      ]
     },
     "metadata": {
      "needs_background": "light"
     },
     "output_type": "display_data"
    }
   ],
   "source": [
    "import seaborn as sns\n",
    "sns.boxplot(data=salesdf[['TV', 'Radio', 'Newspaper', 'Sales']])"
   ]
  },
  {
   "cell_type": "markdown",
   "metadata": {},
   "source": [
    "## there are outliers in NewsPaper column"
   ]
  },
  {
   "cell_type": "code",
   "execution_count": 26,
   "metadata": {},
   "outputs": [
    {
     "name": "stdout",
     "output_type": "stream",
     "text": [
      "Newspaper\n",
      "Newspaper\n",
      "[3.8411707150992718, 3.238153957342154]\n"
     ]
    }
   ],
   "source": [
    "outliers=[]\n",
    "for i in salesdf.columns :\n",
    "    q1=np.percentile(salesdf[i],25)\n",
    "    q3=np.percentile(salesdf[i],75)\n",
    "    iqr=q3-q1\n",
    "    min=q1-1.5*iqr\n",
    "    max=q3+1.5*iqr\n",
    "    for j in salesdf[i]:\n",
    "        if j<min :\n",
    "            print(i)\n",
    "            outliers.append(j)\n",
    "            salesdf[i].replace(j,min,inplace=True)\n",
    "        elif j>max:\n",
    "            print(i)\n",
    "            outliers.append(j)\n",
    "            salesdf[i].replace(j,max,inplace=True)\n",
    "print(outliers)"
   ]
  },
  {
   "cell_type": "markdown",
   "metadata": {},
   "source": [
    "## here we replaced the outliers wih suitable values"
   ]
  },
  {
   "cell_type": "code",
   "execution_count": 27,
   "metadata": {},
   "outputs": [
    {
     "data": {
      "text/plain": [
       "<AxesSubplot:>"
      ]
     },
     "execution_count": 27,
     "metadata": {},
     "output_type": "execute_result"
    },
    {
     "data": {
      "image/png": "[encoded data removed]",
      "text/plain": [
       "<Figure size 432x288 with 1 Axes>"
      ]
     },
     "metadata": {
      "needs_background": "light"
     },
     "output_type": "display_data"
    }
   ],
   "source": [
    "sns.boxplot(data=salesdf[['TV', 'Radio', 'Newspaper', 'Sales']])"
   ]
  },
  {
   "cell_type": "code",
   "execution_count": 28,
   "metadata": {},
   "outputs": [],
   "source": [
    "from sklearn.model_selection import train_test_split\n",
    "from sklearn.linear_model import LinearRegression"
   ]
  },
  {
   "cell_type": "code",
   "execution_count": 73,
   "metadata": {},
   "outputs": [
    {
     "data": {
      "text/plain": [
       "<AxesSubplot:>"
      ]
     },
     "execution_count": 73,
     "metadata": {},
     "output_type": "execute_result"
    },
    {
     "data": {
      "image/png": "[encoded data removed]",
      "text/plain": [
       "<Figure size 432x288 with 2 Axes>"
      ]
     },
     "metadata": {
      "needs_background": "light"
     },
     "output_type": "display_data"
    }
   ],
   "source": [
    "sns.heatmap(df.corr(),annot=True)"
   ]
  },
  {
   "cell_type": "markdown",
   "metadata": {},
   "source": [
    "## here we can see TV is the Advertising medium which is more related to sales"
   ]
  },
  {
   "cell_type": "code",
   "execution_count": 130,
   "metadata": {},
   "outputs": [],
   "source": [
    "x=salesdf.drop(\"Sales\",axis=1)\n",
    "y=salesdf[\"Sales\"]"
   ]
  },
  {
   "cell_type": "code",
   "execution_count": 131,
   "metadata": {},
   "outputs": [],
   "source": [
    "xtrain,xtest,ytrain,ytest=train_test_split(x,y,test_size=0.3,random_state=88)"
   ]
  },
  {
   "cell_type": "code",
   "execution_count": 132,
   "metadata": {},
   "outputs": [
    {
     "data": {
      "text/html": [
       "<div>\n",
       "<style scoped>\n",
       "    .dataframe tbody tr th:only-of-type {\n",
       "        vertical-align: middle;\n",
       "    }\n",
       "\n",
       "    .dataframe tbody tr th {\n",
       "        vertical-align: top;\n",
       "    }\n",
       "\n",
       "    .dataframe thead th {\n",
       "        text-align: right;\n",
       "    }\n",
       "</style>\n",
       "<table border=\"1\" class=\"dataframe\">\n",
       "  <thead>\n",
       "    <tr style=\"text-align: right;\">\n",
       "      <th></th>\n",
       "      <th>Unnamed: 0</th>\n",
       "      <th>TV</th>\n",
       "      <th>Radio</th>\n",
       "      <th>Newspaper</th>\n",
       "    </tr>\n",
       "  </thead>\n",
       "  <tbody>\n",
       "    <tr>\n",
       "      <th>98</th>\n",
       "      <td>-0.025981</td>\n",
       "      <td>1.665794</td>\n",
       "      <td>1.285378</td>\n",
       "      <td>0.950373</td>\n",
       "    </tr>\n",
       "    <tr>\n",
       "      <th>109</th>\n",
       "      <td>0.164547</td>\n",
       "      <td>1.265277</td>\n",
       "      <td>0.245516</td>\n",
       "      <td>-1.153281</td>\n",
       "    </tr>\n",
       "    <tr>\n",
       "      <th>137</th>\n",
       "      <td>0.649527</td>\n",
       "      <td>1.478964</td>\n",
       "      <td>0.380563</td>\n",
       "      <td>1.341643</td>\n",
       "    </tr>\n",
       "    <tr>\n",
       "      <th>20</th>\n",
       "      <td>-1.376998</td>\n",
       "      <td>0.833233</td>\n",
       "      <td>0.299535</td>\n",
       "      <td>1.051643</td>\n",
       "    </tr>\n",
       "    <tr>\n",
       "      <th>156</th>\n",
       "      <td>0.978621</td>\n",
       "      <td>-0.620538</td>\n",
       "      <td>1.366407</td>\n",
       "      <td>0.918151</td>\n",
       "    </tr>\n",
       "    <tr>\n",
       "      <th>...</th>\n",
       "      <td>...</td>\n",
       "      <td>...</td>\n",
       "      <td>...</td>\n",
       "      <td>...</td>\n",
       "    </tr>\n",
       "    <tr>\n",
       "      <th>101</th>\n",
       "      <td>0.025981</td>\n",
       "      <td>1.744029</td>\n",
       "      <td>0.880237</td>\n",
       "      <td>2.903273</td>\n",
       "    </tr>\n",
       "    <tr>\n",
       "      <th>148</th>\n",
       "      <td>0.840055</td>\n",
       "      <td>-1.273276</td>\n",
       "      <td>1.150331</td>\n",
       "      <td>-0.858677</td>\n",
       "    </tr>\n",
       "    <tr>\n",
       "      <th>106</th>\n",
       "      <td>0.112585</td>\n",
       "      <td>-1.425075</td>\n",
       "      <td>-0.828109</td>\n",
       "      <td>-0.039311</td>\n",
       "    </tr>\n",
       "    <tr>\n",
       "      <th>177</th>\n",
       "      <td>1.342356</td>\n",
       "      <td>0.270407</td>\n",
       "      <td>-1.044184</td>\n",
       "      <td>0.213864</td>\n",
       "    </tr>\n",
       "    <tr>\n",
       "      <th>32</th>\n",
       "      <td>-1.169149</td>\n",
       "      <td>-0.582005</td>\n",
       "      <td>-1.469583</td>\n",
       "      <td>-0.025502</td>\n",
       "    </tr>\n",
       "  </tbody>\n",
       "</table>\n",
       "<p>140 rows × 4 columns</p>\n",
       "</div>"
      ],
      "text/plain": [
       "     Unnamed: 0        TV     Radio  Newspaper\n",
       "98    -0.025981  1.665794  1.285378   0.950373\n",
       "109    0.164547  1.265277  0.245516  -1.153281\n",
       "137    0.649527  1.478964  0.380563   1.341643\n",
       "20    -1.376998  0.833233  0.299535   1.051643\n",
       "156    0.978621 -0.620538  1.366407   0.918151\n",
       "..          ...       ...       ...        ...\n",
       "101    0.025981  1.744029  0.880237   2.903273\n",
       "148    0.840055 -1.273276  1.150331  -0.858677\n",
       "106    0.112585 -1.425075 -0.828109  -0.039311\n",
       "177    1.342356  0.270407 -1.044184   0.213864\n",
       "32    -1.169149 -0.582005 -1.469583  -0.025502\n",
       "\n",
       "[140 rows x 4 columns]"
      ]
     },
     "execution_count": 132,
     "metadata": {},
     "output_type": "execute_result"
    }
   ],
   "source": [
    "xtrain"
   ]
  },
  {
   "cell_type": "code",
   "execution_count": 133,
   "metadata": {},
   "outputs": [
    {
     "data": {
      "text/html": [
       "<div>\n",
       "<style scoped>\n",
       "    .dataframe tbody tr th:only-of-type {\n",
       "        vertical-align: middle;\n",
       "    }\n",
       "\n",
       "    .dataframe tbody tr th {\n",
       "        vertical-align: top;\n",
       "    }\n",
       "\n",
       "    .dataframe thead th {\n",
       "        text-align: right;\n",
       "    }\n",
       "</style>\n",
       "<table border=\"1\" class=\"dataframe\">\n",
       "  <thead>\n",
       "    <tr style=\"text-align: right;\">\n",
       "      <th></th>\n",
       "      <th>Unnamed: 0</th>\n",
       "      <th>TV</th>\n",
       "      <th>Radio</th>\n",
       "      <th>Newspaper</th>\n",
       "    </tr>\n",
       "  </thead>\n",
       "  <tbody>\n",
       "    <tr>\n",
       "      <th>199</th>\n",
       "      <td>1.723412</td>\n",
       "      <td>0.993206</td>\n",
       "      <td>-0.990165</td>\n",
       "      <td>-1.005979</td>\n",
       "    </tr>\n",
       "    <tr>\n",
       "      <th>2</th>\n",
       "      <td>-1.688771</td>\n",
       "      <td>-1.516155</td>\n",
       "      <td>1.528463</td>\n",
       "      <td>1.783549</td>\n",
       "    </tr>\n",
       "    <tr>\n",
       "      <th>158</th>\n",
       "      <td>1.013262</td>\n",
       "      <td>-1.580378</td>\n",
       "      <td>0.920751</td>\n",
       "      <td>0.674182</td>\n",
       "    </tr>\n",
       "    <tr>\n",
       "      <th>13</th>\n",
       "      <td>-1.498243</td>\n",
       "      <td>-0.578502</td>\n",
       "      <td>-1.057689</td>\n",
       "      <td>-1.075027</td>\n",
       "    </tr>\n",
       "    <tr>\n",
       "      <th>39</th>\n",
       "      <td>-1.047904</td>\n",
       "      <td>0.945331</td>\n",
       "      <td>0.974770</td>\n",
       "      <td>0.066562</td>\n",
       "    </tr>\n",
       "    <tr>\n",
       "      <th>166</th>\n",
       "      <td>1.151828</td>\n",
       "      <td>-1.507981</td>\n",
       "      <td>0.968018</td>\n",
       "      <td>-0.412169</td>\n",
       "    </tr>\n",
       "    <tr>\n",
       "      <th>129</th>\n",
       "      <td>0.510961</td>\n",
       "      <td>-1.021055</td>\n",
       "      <td>-0.760585</td>\n",
       "      <td>0.577515</td>\n",
       "    </tr>\n",
       "    <tr>\n",
       "      <th>74</th>\n",
       "      <td>-0.441678</td>\n",
       "      <td>0.774848</td>\n",
       "      <td>0.090211</td>\n",
       "      <td>-0.803439</td>\n",
       "    </tr>\n",
       "    <tr>\n",
       "      <th>85</th>\n",
       "      <td>-0.251151</td>\n",
       "      <td>0.538975</td>\n",
       "      <td>-0.328435</td>\n",
       "      <td>1.617834</td>\n",
       "    </tr>\n",
       "    <tr>\n",
       "      <th>180</th>\n",
       "      <td>1.394318</td>\n",
       "      <td>0.111602</td>\n",
       "      <td>-1.395307</td>\n",
       "      <td>-1.024392</td>\n",
       "    </tr>\n",
       "    <tr>\n",
       "      <th>33</th>\n",
       "      <td>-1.151828</td>\n",
       "      <td>1.384381</td>\n",
       "      <td>-0.220397</td>\n",
       "      <td>-1.392646</td>\n",
       "    </tr>\n",
       "    <tr>\n",
       "      <th>57</th>\n",
       "      <td>-0.736131</td>\n",
       "      <td>-0.126607</td>\n",
       "      <td>-0.274416</td>\n",
       "      <td>-0.642328</td>\n",
       "    </tr>\n",
       "    <tr>\n",
       "      <th>87</th>\n",
       "      <td>-0.216509</td>\n",
       "      <td>-0.424367</td>\n",
       "      <td>1.170588</td>\n",
       "      <td>1.502755</td>\n",
       "    </tr>\n",
       "    <tr>\n",
       "      <th>69</th>\n",
       "      <td>-0.528282</td>\n",
       "      <td>0.814550</td>\n",
       "      <td>1.393416</td>\n",
       "      <td>-0.154391</td>\n",
       "    </tr>\n",
       "    <tr>\n",
       "      <th>111</th>\n",
       "      <td>0.199188</td>\n",
       "      <td>1.105304</td>\n",
       "      <td>0.995027</td>\n",
       "      <td>-0.338518</td>\n",
       "    </tr>\n",
       "    <tr>\n",
       "      <th>21</th>\n",
       "      <td>-1.359677</td>\n",
       "      <td>1.055093</td>\n",
       "      <td>-1.226498</td>\n",
       "      <td>-0.324708</td>\n",
       "    </tr>\n",
       "    <tr>\n",
       "      <th>153</th>\n",
       "      <td>0.926659</td>\n",
       "      <td>0.283252</td>\n",
       "      <td>1.109817</td>\n",
       "      <td>0.328943</td>\n",
       "    </tr>\n",
       "    <tr>\n",
       "      <th>105</th>\n",
       "      <td>0.095264</td>\n",
       "      <td>-0.106756</td>\n",
       "      <td>1.562225</td>\n",
       "      <td>1.309421</td>\n",
       "    </tr>\n",
       "    <tr>\n",
       "      <th>113</th>\n",
       "      <td>0.233830</td>\n",
       "      <td>0.730476</td>\n",
       "      <td>-0.179883</td>\n",
       "      <td>-0.913916</td>\n",
       "    </tr>\n",
       "    <tr>\n",
       "      <th>96</th>\n",
       "      <td>-0.060623</td>\n",
       "      <td>0.590354</td>\n",
       "      <td>-1.334536</td>\n",
       "      <td>-1.134868</td>\n",
       "    </tr>\n",
       "    <tr>\n",
       "      <th>53</th>\n",
       "      <td>-0.805414</td>\n",
       "      <td>0.415201</td>\n",
       "      <td>1.548720</td>\n",
       "      <td>1.295611</td>\n",
       "    </tr>\n",
       "    <tr>\n",
       "      <th>91</th>\n",
       "      <td>-0.147226</td>\n",
       "      <td>-1.383039</td>\n",
       "      <td>-1.469583</td>\n",
       "      <td>0.112594</td>\n",
       "    </tr>\n",
       "    <tr>\n",
       "      <th>190</th>\n",
       "      <td>1.567526</td>\n",
       "      <td>-1.255761</td>\n",
       "      <td>1.204350</td>\n",
       "      <td>-1.139472</td>\n",
       "    </tr>\n",
       "    <tr>\n",
       "      <th>45</th>\n",
       "      <td>-0.943979</td>\n",
       "      <td>0.327624</td>\n",
       "      <td>-0.051588</td>\n",
       "      <td>0.043546</td>\n",
       "    </tr>\n",
       "    <tr>\n",
       "      <th>30</th>\n",
       "      <td>-1.203790</td>\n",
       "      <td>1.703160</td>\n",
       "      <td>0.340049</td>\n",
       "      <td>0.582118</td>\n",
       "    </tr>\n",
       "    <tr>\n",
       "      <th>14</th>\n",
       "      <td>-1.480922</td>\n",
       "      <td>0.666253</td>\n",
       "      <td>0.650657</td>\n",
       "      <td>0.711007</td>\n",
       "    </tr>\n",
       "    <tr>\n",
       "      <th>79</th>\n",
       "      <td>-0.355075</td>\n",
       "      <td>-0.362479</td>\n",
       "      <td>-1.050937</td>\n",
       "      <td>-0.343121</td>\n",
       "    </tr>\n",
       "    <tr>\n",
       "      <th>95</th>\n",
       "      <td>-0.077943</td>\n",
       "      <td>0.189837</td>\n",
       "      <td>0.562876</td>\n",
       "      <td>1.028627</td>\n",
       "    </tr>\n",
       "    <tr>\n",
       "      <th>120</th>\n",
       "      <td>0.355075</td>\n",
       "      <td>-0.067054</td>\n",
       "      <td>0.238763</td>\n",
       "      <td>0.720214</td>\n",
       "    </tr>\n",
       "    <tr>\n",
       "      <th>52</th>\n",
       "      <td>-0.822734</td>\n",
       "      <td>0.809879</td>\n",
       "      <td>1.244864</td>\n",
       "      <td>0.416404</td>\n",
       "    </tr>\n",
       "    <tr>\n",
       "      <th>145</th>\n",
       "      <td>0.788093</td>\n",
       "      <td>-0.078731</td>\n",
       "      <td>-1.442573</td>\n",
       "      <td>-0.992170</td>\n",
       "    </tr>\n",
       "    <tr>\n",
       "      <th>22</th>\n",
       "      <td>-1.342356</td>\n",
       "      <td>-1.562862</td>\n",
       "      <td>-0.497243</td>\n",
       "      <td>0.876722</td>\n",
       "    </tr>\n",
       "    <tr>\n",
       "      <th>130</th>\n",
       "      <td>0.528282</td>\n",
       "      <td>-1.708823</td>\n",
       "      <td>1.103065</td>\n",
       "      <td>-1.005979</td>\n",
       "    </tr>\n",
       "    <tr>\n",
       "      <th>159</th>\n",
       "      <td>1.030583</td>\n",
       "      <td>-0.179152</td>\n",
       "      <td>-0.328435</td>\n",
       "      <td>0.186245</td>\n",
       "    </tr>\n",
       "    <tr>\n",
       "      <th>24</th>\n",
       "      <td>-1.307715</td>\n",
       "      <td>-0.989528</td>\n",
       "      <td>-0.720071</td>\n",
       "      <td>-0.564074</td>\n",
       "    </tr>\n",
       "    <tr>\n",
       "      <th>63</th>\n",
       "      <td>-0.632206</td>\n",
       "      <td>-0.517782</td>\n",
       "      <td>0.427829</td>\n",
       "      <td>-1.019789</td>\n",
       "    </tr>\n",
       "    <tr>\n",
       "      <th>64</th>\n",
       "      <td>-0.614886</td>\n",
       "      <td>-0.186159</td>\n",
       "      <td>1.319140</td>\n",
       "      <td>-0.076137</td>\n",
       "    </tr>\n",
       "    <tr>\n",
       "      <th>42</th>\n",
       "      <td>-0.995942</td>\n",
       "      <td>1.711334</td>\n",
       "      <td>0.299535</td>\n",
       "      <td>-1.323599</td>\n",
       "    </tr>\n",
       "    <tr>\n",
       "      <th>162</th>\n",
       "      <td>1.082545</td>\n",
       "      <td>0.482926</td>\n",
       "      <td>-0.348692</td>\n",
       "      <td>-0.228042</td>\n",
       "    </tr>\n",
       "    <tr>\n",
       "      <th>60</th>\n",
       "      <td>-0.684169</td>\n",
       "      <td>-1.092284</td>\n",
       "      <td>-1.435821</td>\n",
       "      <td>-0.421375</td>\n",
       "    </tr>\n",
       "    <tr>\n",
       "      <th>100</th>\n",
       "      <td>0.008660</td>\n",
       "      <td>0.879940</td>\n",
       "      <td>-1.280517</td>\n",
       "      <td>0.885928</td>\n",
       "    </tr>\n",
       "    <tr>\n",
       "      <th>19</th>\n",
       "      <td>-1.394318</td>\n",
       "      <td>0.003007</td>\n",
       "      <td>0.042945</td>\n",
       "      <td>-0.527248</td>\n",
       "    </tr>\n",
       "    <tr>\n",
       "      <th>182</th>\n",
       "      <td>1.428960</td>\n",
       "      <td>-1.060757</td>\n",
       "      <td>-1.185984</td>\n",
       "      <td>-0.039311</td>\n",
       "    </tr>\n",
       "    <tr>\n",
       "      <th>172</th>\n",
       "      <td>1.255753</td>\n",
       "      <td>-1.488130</td>\n",
       "      <td>-0.213645</td>\n",
       "      <td>-0.623915</td>\n",
       "    </tr>\n",
       "    <tr>\n",
       "      <th>59</th>\n",
       "      <td>-0.701489</td>\n",
       "      <td>0.743321</td>\n",
       "      <td>0.421077</td>\n",
       "      <td>-0.978360</td>\n",
       "    </tr>\n",
       "    <tr>\n",
       "      <th>8</th>\n",
       "      <td>-1.584846</td>\n",
       "      <td>-1.616576</td>\n",
       "      <td>-1.429069</td>\n",
       "      <td>-1.360424</td>\n",
       "    </tr>\n",
       "    <tr>\n",
       "      <th>15</th>\n",
       "      <td>-1.463601</td>\n",
       "      <td>0.564665</td>\n",
       "      <td>1.650006</td>\n",
       "      <td>1.028627</td>\n",
       "    </tr>\n",
       "    <tr>\n",
       "      <th>195</th>\n",
       "      <td>1.654129</td>\n",
       "      <td>-1.270941</td>\n",
       "      <td>-1.321031</td>\n",
       "      <td>-0.771217</td>\n",
       "    </tr>\n",
       "    <tr>\n",
       "      <th>136</th>\n",
       "      <td>0.632206</td>\n",
       "      <td>-1.418069</td>\n",
       "      <td>1.062551</td>\n",
       "      <td>-0.978360</td>\n",
       "    </tr>\n",
       "    <tr>\n",
       "      <th>164</th>\n",
       "      <td>1.117187</td>\n",
       "      <td>-0.348467</td>\n",
       "      <td>-0.578272</td>\n",
       "      <td>-1.157884</td>\n",
       "    </tr>\n",
       "    <tr>\n",
       "      <th>76</th>\n",
       "      <td>-0.407037</td>\n",
       "      <td>-1.395883</td>\n",
       "      <td>-1.462830</td>\n",
       "      <td>-0.453597</td>\n",
       "    </tr>\n",
       "    <tr>\n",
       "      <th>118</th>\n",
       "      <td>0.320433</td>\n",
       "      <td>-0.249214</td>\n",
       "      <td>0.920751</td>\n",
       "      <td>2.239264</td>\n",
       "    </tr>\n",
       "    <tr>\n",
       "      <th>140</th>\n",
       "      <td>0.701489</td>\n",
       "      <td>-0.859914</td>\n",
       "      <td>-0.422968</td>\n",
       "      <td>-0.812646</td>\n",
       "    </tr>\n",
       "    <tr>\n",
       "      <th>143</th>\n",
       "      <td>0.753452</td>\n",
       "      <td>-0.495596</td>\n",
       "      <td>-1.185984</td>\n",
       "      <td>0.177038</td>\n",
       "    </tr>\n",
       "    <tr>\n",
       "      <th>68</th>\n",
       "      <td>-0.545603</td>\n",
       "      <td>1.055093</td>\n",
       "      <td>0.286030</td>\n",
       "      <td>-0.900106</td>\n",
       "    </tr>\n",
       "    <tr>\n",
       "      <th>17</th>\n",
       "      <td>-1.428960</td>\n",
       "      <td>1.568876</td>\n",
       "      <td>1.103065</td>\n",
       "      <td>1.162119</td>\n",
       "    </tr>\n",
       "    <tr>\n",
       "      <th>41</th>\n",
       "      <td>-1.013262</td>\n",
       "      <td>0.349810</td>\n",
       "      <td>0.684419</td>\n",
       "      <td>0.374975</td>\n",
       "    </tr>\n",
       "    <tr>\n",
       "      <th>65</th>\n",
       "      <td>-0.597565</td>\n",
       "      <td>-0.911293</td>\n",
       "      <td>-0.942899</td>\n",
       "      <td>-1.365027</td>\n",
       "    </tr>\n",
       "    <tr>\n",
       "      <th>46</th>\n",
       "      <td>-0.926659</td>\n",
       "      <td>-0.669581</td>\n",
       "      <td>-0.902385</td>\n",
       "      <td>0.236880</td>\n",
       "    </tr>\n",
       "    <tr>\n",
       "      <th>142</th>\n",
       "      <td>0.736131</td>\n",
       "      <td>0.857754</td>\n",
       "      <td>0.670914</td>\n",
       "      <td>0.338150</td>\n",
       "    </tr>\n",
       "  </tbody>\n",
       "</table>\n",
       "</div>"
      ],
      "text/plain": [
       "     Unnamed: 0        TV     Radio  Newspaper\n",
       "199    1.723412  0.993206 -0.990165  -1.005979\n",
       "2     -1.688771 -1.516155  1.528463   1.783549\n",
       "158    1.013262 -1.580378  0.920751   0.674182\n",
       "13    -1.498243 -0.578502 -1.057689  -1.075027\n",
       "39    -1.047904  0.945331  0.974770   0.066562\n",
       "166    1.151828 -1.507981  0.968018  -0.412169\n",
       "129    0.510961 -1.021055 -0.760585   0.577515\n",
       "74    -0.441678  0.774848  0.090211  -0.803439\n",
       "85    -0.251151  0.538975 -0.328435   1.617834\n",
       "180    1.394318  0.111602 -1.395307  -1.024392\n",
       "33    -1.151828  1.384381 -0.220397  -1.392646\n",
       "57    -0.736131 -0.126607 -0.274416  -0.642328\n",
       "87    -0.216509 -0.424367  1.170588   1.502755\n",
       "69    -0.528282  0.814550  1.393416  -0.154391\n",
       "111    0.199188  1.105304  0.995027  -0.338518\n",
       "21    -1.359677  1.055093 -1.226498  -0.324708\n",
       "153    0.926659  0.283252  1.109817   0.328943\n",
       "105    0.095264 -0.106756  1.562225   1.309421\n",
       "113    0.233830  0.730476 -0.179883  -0.913916\n",
       "96    -0.060623  0.590354 -1.334536  -1.134868\n",
       "53    -0.805414  0.415201  1.548720   1.295611\n",
       "91    -0.147226 -1.383039 -1.469583   0.112594\n",
       "190    1.567526 -1.255761  1.204350  -1.139472\n",
       "45    -0.943979  0.327624 -0.051588   0.043546\n",
       "30    -1.203790  1.703160  0.340049   0.582118\n",
       "14    -1.480922  0.666253  0.650657   0.711007\n",
       "79    -0.355075 -0.362479 -1.050937  -0.343121\n",
       "95    -0.077943  0.189837  0.562876   1.028627\n",
       "120    0.355075 -0.067054  0.238763   0.720214\n",
       "52    -0.822734  0.809879  1.244864   0.416404\n",
       "145    0.788093 -0.078731 -1.442573  -0.992170\n",
       "22    -1.342356 -1.562862 -0.497243   0.876722\n",
       "130    0.528282 -1.708823  1.103065  -1.005979\n",
       "159    1.030583 -0.179152 -0.328435   0.186245\n",
       "24    -1.307715 -0.989528 -0.720071  -0.564074\n",
       "63    -0.632206 -0.517782  0.427829  -1.019789\n",
       "64    -0.614886 -0.186159  1.319140  -0.076137\n",
       "42    -0.995942  1.711334  0.299535  -1.323599\n",
       "162    1.082545  0.482926 -0.348692  -0.228042\n",
       "60    -0.684169 -1.092284 -1.435821  -0.421375\n",
       "100    0.008660  0.879940 -1.280517   0.885928\n",
       "19    -1.394318  0.003007  0.042945  -0.527248\n",
       "182    1.428960 -1.060757 -1.185984  -0.039311\n",
       "172    1.255753 -1.488130 -0.213645  -0.623915\n",
       "59    -0.701489  0.743321  0.421077  -0.978360\n",
       "8     -1.584846 -1.616576 -1.429069  -1.360424\n",
       "15    -1.463601  0.564665  1.650006   1.028627\n",
       "195    1.654129 -1.270941 -1.321031  -0.771217\n",
       "136    0.632206 -1.418069  1.062551  -0.978360\n",
       "164    1.117187 -0.348467 -0.578272  -1.157884\n",
       "76    -0.407037 -1.395883 -1.462830  -0.453597\n",
       "118    0.320433 -0.249214  0.920751   2.239264\n",
       "140    0.701489 -0.859914 -0.422968  -0.812646\n",
       "143    0.753452 -0.495596 -1.185984   0.177038\n",
       "68    -0.545603  1.055093  0.286030  -0.900106\n",
       "17    -1.428960  1.568876  1.103065   1.162119\n",
       "41    -1.013262  0.349810  0.684419   0.374975\n",
       "65    -0.597565 -0.911293 -0.942899  -1.365027\n",
       "46    -0.926659 -0.669581 -0.902385   0.236880\n",
       "142    0.736131  0.857754  0.670914   0.338150"
      ]
     },
     "execution_count": 133,
     "metadata": {},
     "output_type": "execute_result"
    }
   ],
   "source": [
    "xtest"
   ]
  },
  {
   "cell_type": "code",
   "execution_count": 134,
   "metadata": {},
   "outputs": [
    {
     "data": {
      "text/plain": [
       "98     2.186132\n",
       "109    1.110119\n",
       "137    1.302264\n",
       "20     0.764258\n",
       "156    0.245466\n",
       "         ...   \n",
       "101    1.878700\n",
       "148   -0.599973\n",
       "106   -1.310911\n",
       "177   -0.446257\n",
       "32    -0.849762\n",
       "Name: Sales, Length: 140, dtype: float64"
      ]
     },
     "execution_count": 134,
     "metadata": {},
     "output_type": "execute_result"
    }
   ],
   "source": [
    "ytrain"
   ]
  },
  {
   "cell_type": "code",
   "execution_count": 135,
   "metadata": {},
   "outputs": [
    {
     "data": {
      "text/plain": [
       "199   -0.119610\n",
       "2     -0.907406\n",
       "158   -1.291696\n",
       "13    -0.830548\n",
       "39     1.436766\n",
       "166   -1.157195\n",
       "129   -0.830548\n",
       "74     0.572112\n",
       "85     0.226251\n",
       "180   -0.676832\n",
       "33     0.648971\n",
       "57    -0.158039\n",
       "87     0.379967\n",
       "69     1.590482\n",
       "111    1.494410\n",
       "21    -0.292541\n",
       "153    0.956403\n",
       "105    0.994832\n",
       "113    0.360753\n",
       "96    -0.446257\n",
       "53     1.379122\n",
       "91    -1.291696\n",
       "190   -0.619188\n",
       "45     0.168607\n",
       "30     1.417551\n",
       "14     0.956403\n",
       "79    -0.580759\n",
       "95     0.552898\n",
       "120    0.283895\n",
       "52     1.648126\n",
       "145   -0.715261\n",
       "22    -1.618343\n",
       "130   -2.386924\n",
       "159   -0.215683\n",
       "24    -0.830548\n",
       "63    -0.004323\n",
       "64     0.764258\n",
       "42     1.283050\n",
       "162    0.168607\n",
       "60    -1.137980\n",
       "100   -0.446257\n",
       "19     0.110964\n",
       "182   -1.022693\n",
       "172   -1.234053\n",
       "59     0.841116\n",
       "8     -1.772059\n",
       "15     1.609697\n",
       "195   -1.234053\n",
       "136   -0.868977\n",
       "164   -0.407828\n",
       "76    -1.368554\n",
       "118    0.360753\n",
       "140   -0.599973\n",
       "143   -0.696046\n",
       "68     0.937188\n",
       "17     1.993987\n",
       "41     0.591327\n",
       "65    -0.907406\n",
       "46    -0.657617\n",
       "142    1.167763\n",
       "Name: Sales, dtype: float64"
      ]
     },
     "execution_count": 135,
     "metadata": {},
     "output_type": "execute_result"
    }
   ],
   "source": [
    "ytest"
   ]
  },
  {
   "cell_type": "code",
   "execution_count": 136,
   "metadata": {},
   "outputs": [
    {
     "data": {
      "text/plain": [
       "(140, 4)"
      ]
     },
     "execution_count": 136,
     "metadata": {},
     "output_type": "execute_result"
    }
   ],
   "source": [
    "xtrain.shape"
   ]
  },
  {
   "cell_type": "code",
   "execution_count": 137,
   "metadata": {},
   "outputs": [
    {
     "data": {
      "text/plain": [
       "(140,)"
      ]
     },
     "execution_count": 137,
     "metadata": {},
     "output_type": "execute_result"
    }
   ],
   "source": [
    "ytrain.shape"
   ]
  },
  {
   "cell_type": "code",
   "execution_count": 138,
   "metadata": {},
   "outputs": [
    {
     "data": {
      "text/plain": [
       "(60, 4)"
      ]
     },
     "execution_count": 138,
     "metadata": {},
     "output_type": "execute_result"
    }
   ],
   "source": [
    "xtest.shape"
   ]
  },
  {
   "cell_type": "code",
   "execution_count": 139,
   "metadata": {},
   "outputs": [
    {
     "data": {
      "text/plain": [
       "(60,)"
      ]
     },
     "execution_count": 139,
     "metadata": {},
     "output_type": "execute_result"
    }
   ],
   "source": [
    "ytest.shape"
   ]
  },
  {
   "cell_type": "markdown",
   "metadata": {},
   "source": [
    "## Linear Regression model"
   ]
  },
  {
   "cell_type": "code",
   "execution_count": 140,
   "metadata": {},
   "outputs": [
    {
     "data": {
      "text/plain": [
       "LinearRegression()"
      ]
     },
     "execution_count": 140,
     "metadata": {},
     "output_type": "execute_result"
    }
   ],
   "source": [
    "lr=LinearRegression()\n",
    "lr.fit(xtrain,ytrain)"
   ]
  },
  {
   "cell_type": "code",
   "execution_count": 141,
   "metadata": {},
   "outputs": [],
   "source": [
    "lrpred=lr.predict(xtest)"
   ]
  },
  {
   "cell_type": "code",
   "execution_count": 142,
   "metadata": {},
   "outputs": [
    {
     "data": {
      "text/plain": [
       "array([ 0.20206632, -0.33075086, -0.66484114, -1.04862928,  1.24283657,\n",
       "       -0.54899472, -1.22982488,  0.63450512,  0.14468173, -0.69509873,\n",
       "        0.91704555, -0.25882489,  0.30253391,  1.40220559,  1.40196106,\n",
       "        0.05105776,  0.84476088,  0.77721731,  0.45606829, -0.31774488,\n",
       "        1.14771025, -1.90702881, -0.19617571,  0.18655338,  1.42126214,\n",
       "        0.82114545, -0.89095262,  0.42294171,  0.05736766,  1.2913939 ,\n",
       "       -0.87327511, -1.51324145, -0.61033652, -0.33185381, -1.17161578,\n",
       "       -0.12921342,  0.60897884,  1.46353691,  0.1633517 , -1.6612873 ,\n",
       "       -0.12995217,  0.01080054, -1.47692631, -1.21440195,  0.80553365,\n",
       "       -2.03178541,  1.31781178, -1.68754259, -0.41652154, -0.56221493,\n",
       "       -1.89901156,  0.27251059, -0.86898475, -1.07037776,  0.95914061,\n",
       "        1.74501464,  0.62074324, -1.20993466, -1.05822635,  1.01515074])"
      ]
     },
     "execution_count": 142,
     "metadata": {},
     "output_type": "execute_result"
    }
   ],
   "source": [
    "lrpred"
   ]
  },
  {
   "cell_type": "code",
   "execution_count": 143,
   "metadata": {},
   "outputs": [],
   "source": [
    "from sklearn.metrics import mean_absolute_error,confusion_matrix"
   ]
  },
  {
   "cell_type": "code",
   "execution_count": 144,
   "metadata": {},
   "outputs": [],
   "source": [
    "lrerror=mean_absolute_error(ytest,lrpred)"
   ]
  },
  {
   "cell_type": "code",
   "execution_count": 145,
   "metadata": {},
   "outputs": [
    {
     "data": {
      "text/plain": [
       "0.2603809716709385"
      ]
     },
     "execution_count": 145,
     "metadata": {},
     "output_type": "execute_result"
    }
   ],
   "source": [
    "lrerror"
   ]
  },
  {
   "cell_type": "markdown",
   "metadata": {},
   "source": [
    "## here the error is gratet than 20% so we should try Decision tree Regressor"
   ]
  },
  {
   "cell_type": "markdown",
   "metadata": {},
   "source": [
    "## Decision Tree Regression\n"
   ]
  },
  {
   "cell_type": "code",
   "execution_count": 146,
   "metadata": {},
   "outputs": [],
   "source": [
    "from sklearn.tree import DecisionTreeRegressor"
   ]
  },
  {
   "cell_type": "code",
   "execution_count": 147,
   "metadata": {},
   "outputs": [],
   "source": [
    "dtr=DecisionTreeRegressor()"
   ]
  },
  {
   "cell_type": "code",
   "execution_count": 148,
   "metadata": {},
   "outputs": [
    {
     "data": {
      "text/plain": [
       "DecisionTreeRegressor()"
      ]
     },
     "execution_count": 148,
     "metadata": {},
     "output_type": "execute_result"
    }
   ],
   "source": [
    "dtr.fit(xtrain,ytrain)"
   ]
  },
  {
   "cell_type": "code",
   "execution_count": 149,
   "metadata": {},
   "outputs": [],
   "source": [
    "dtrpred=dtr.predict(xtest)"
   ]
  },
  {
   "cell_type": "code",
   "execution_count": 150,
   "metadata": {},
   "outputs": [
    {
     "data": {
      "text/plain": [
       "array([-0.21568303, -0.92662039, -1.59912871, -0.83054778,  1.55205313,\n",
       "       -1.02269301, -1.08033658,  0.64897053,  0.1301784 , -0.75368968,\n",
       "        0.36075268, -0.15803946, -0.13882493,  1.47519504,  1.57126765,\n",
       "       -0.38861374,  0.76425767,  0.61054148,  0.30310911, -0.50390088,\n",
       "        1.8594855 , -1.31091086, -0.46547183,  0.49525434,  0.93718838,\n",
       "        0.82190124, -0.58075897,  0.76425767,  0.18782197,  1.47519504,\n",
       "       -0.71526063, -1.426198  , -2.0794918 , -0.15803946, -1.04190753,\n",
       "       -0.38861374,  0.51446886,  1.18697718,  0.1301784 , -1.04190753,\n",
       "       -0.35018469,  0.49525434, -1.08033658, -1.426198  ,  0.82190124,\n",
       "       -1.63755776,  1.8594855 , -1.08033658, -1.02269301, -0.11961041,\n",
       "       -1.426198  ,  0.22625101, -0.48468635, -0.46547183,  1.11011909,\n",
       "        1.55205313,  0.76425767, -0.79211873, -0.83054778,  1.07169004])"
      ]
     },
     "execution_count": 150,
     "metadata": {},
     "output_type": "execute_result"
    }
   ],
   "source": [
    "dtrpred"
   ]
  },
  {
   "cell_type": "code",
   "execution_count": 151,
   "metadata": {},
   "outputs": [],
   "source": [
    "dtrerror=mean_absolute_error(ytest,dtrpred)"
   ]
  },
  {
   "cell_type": "code",
   "execution_count": 152,
   "metadata": {},
   "outputs": [
    {
     "data": {
      "text/plain": [
       "0.16844732206389632"
      ]
     },
     "execution_count": 152,
     "metadata": {},
     "output_type": "execute_result"
    }
   ],
   "source": [
    "dtrerror"
   ]
  },
  {
   "cell_type": "markdown",
   "metadata": {},
   "source": [
    "## trying another regression model i.e support vector machine regressor"
   ]
  },
  {
   "cell_type": "code",
   "execution_count": 154,
   "metadata": {},
   "outputs": [],
   "source": [
    "from sklearn.svm import SVR"
   ]
  },
  {
   "cell_type": "code",
   "execution_count": 155,
   "metadata": {},
   "outputs": [],
   "source": [
    "svr=SVR()"
   ]
  },
  {
   "cell_type": "code",
   "execution_count": 156,
   "metadata": {},
   "outputs": [
    {
     "data": {
      "text/plain": [
       "SVR()"
      ]
     },
     "execution_count": 156,
     "metadata": {},
     "output_type": "execute_result"
    }
   ],
   "source": [
    "svr.fit(xtrain,ytrain)"
   ]
  },
  {
   "cell_type": "code",
   "execution_count": 157,
   "metadata": {},
   "outputs": [],
   "source": [
    "svrpred=svr.predict(xtest)"
   ]
  },
  {
   "cell_type": "code",
   "execution_count": 158,
   "metadata": {},
   "outputs": [],
   "source": [
    "svrerror=mean_absolute_error(ytest,svrpred)"
   ]
  },
  {
   "cell_type": "code",
   "execution_count": 159,
   "metadata": {},
   "outputs": [
    {
     "data": {
      "text/plain": [
       "0.15399593835287068"
      ]
     },
     "execution_count": 159,
     "metadata": {},
     "output_type": "execute_result"
    }
   ],
   "source": [
    "svrerror"
   ]
  },
  {
   "cell_type": "markdown",
   "metadata": {},
   "source": [
    "## Randomforest regressor"
   ]
  },
  {
   "cell_type": "code",
   "execution_count": 161,
   "metadata": {},
   "outputs": [],
   "source": [
    "from sklearn.ensemble import RandomForestRegressor"
   ]
  },
  {
   "cell_type": "code",
   "execution_count": 162,
   "metadata": {},
   "outputs": [],
   "source": [
    "rf=RandomForestRegressor(n_estimators=10)"
   ]
  },
  {
   "cell_type": "code",
   "execution_count": 163,
   "metadata": {},
   "outputs": [
    {
     "data": {
      "text/plain": [
       "RandomForestRegressor(n_estimators=10)"
      ]
     },
     "execution_count": 163,
     "metadata": {},
     "output_type": "execute_result"
    }
   ],
   "source": [
    "rf.fit(xtrain,ytrain)"
   ]
  },
  {
   "cell_type": "code",
   "execution_count": 164,
   "metadata": {},
   "outputs": [],
   "source": [
    "rfpred=rf.predict(xtest)"
   ]
  },
  {
   "cell_type": "code",
   "execution_count": 165,
   "metadata": {},
   "outputs": [],
   "source": [
    "rferror=mean_absolute_error(ytest,rfpred)"
   ]
  },
  {
   "cell_type": "code",
   "execution_count": 166,
   "metadata": {},
   "outputs": [
    {
     "data": {
      "text/plain": [
       "0.1463506201201533"
      ]
     },
     "execution_count": 166,
     "metadata": {},
     "output_type": "execute_result"
    }
   ],
   "source": [
    "rferror"
   ]
  },
  {
   "cell_type": "markdown",
   "metadata": {},
   "source": [
    "## the results of different regressions are here "
   ]
  },
  {
   "cell_type": "code",
   "execution_count": 168,
   "metadata": {},
   "outputs": [
    {
     "data": {
      "text/plain": [
       "(0.2603809716709385,\n",
       " 0.16844732206389632,\n",
       " 0.15399593835287068,\n",
       " 0.1463506201201533)"
      ]
     },
     "execution_count": 168,
     "metadata": {},
     "output_type": "execute_result"
    }
   ],
   "source": [
    "lrerror,dtrerror,svrerror,rferror"
   ]
  },
  {
   "cell_type": "markdown",
   "metadata": {},
   "source": [
    "## from all regressions the Random Forest Regressor gives low mean_absolute_error and  it will be a good fit for this project for sales prediction based on Advertising medium."
   ]
  },
  {
   "cell_type": "code",
   "execution_count": null,
   "metadata": {},
   "outputs": [],
   "source": []
  }
 ],
 "metadata": {
  "kernelspec": {
   "display_name": "Python 3",
   "language": "python",
   "name": "python3"
  },
  "language_info": {
   "codemirror_mode": {
    "name": "ipython",
    "version": 3
   },
   "file_extension": ".py",
   "mimetype": "text/x-python",
   "name": "python",
   "nbconvert_exporter": "python",
   "pygments_lexer": "ipython3",
   "version": "3.7.6"
  }
 },
 "nbformat": 4,
 "nbformat_minor": 4
}
